{
 "cells": [
  {
   "cell_type": "code",
   "execution_count": 19,
   "id": "60a57213",
   "metadata": {},
   "outputs": [],
   "source": [
    "with open('inputs/07.txt', 'r') as f:\n",
    "    fishes = [int(n) for n in f.readlines()[0].split(',')]"
   ]
  },
  {
   "cell_type": "code",
   "execution_count": 28,
   "id": "82f902fa",
   "metadata": {},
   "outputs": [
    {
     "name": "stdout",
     "output_type": "stream",
     "text": [
      "Part 1 result: 328187\n",
      "Part 2 result: 91257582\n"
     ]
    }
   ],
   "source": [
    "min_fuel1 = 1e10\n",
    "min_fuel2 = 1e10\n",
    "for i in range(max(fishes)+1):\n",
    "    fuel1, fuel2 = 0, 0\n",
    "    for n in fishes:\n",
    "        steps = abs(n-i)\n",
    "        fuel1 += steps\n",
    "        fuel2 += int(steps*(steps+1)/2)\n",
    "    min_fuel1 = min(min_fuel1, fuel1)\n",
    "    min_fuel2 = min(min_fuel2, fuel2)\n",
    "print(f'Part 1 result: {min_fuel1}')\n",
    "print(f'Part 2 result: {min_fuel2}')"
   ]
  }
 ],
 "metadata": {
  "kernelspec": {
   "display_name": "Python 3",
   "language": "python",
   "name": "python3"
  },
  "language_info": {
   "codemirror_mode": {
    "name": "ipython",
    "version": 3
   },
   "file_extension": ".py",
   "mimetype": "text/x-python",
   "name": "python",
   "nbconvert_exporter": "python",
   "pygments_lexer": "ipython3",
   "version": "3.8.10"
  }
 },
 "nbformat": 4,
 "nbformat_minor": 5
}
