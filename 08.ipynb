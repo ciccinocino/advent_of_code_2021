{
 "cells": [
  {
   "cell_type": "code",
   "execution_count": 156,
   "id": "92e32f5e",
   "metadata": {},
   "outputs": [],
   "source": [
    "with open('inputs/08.txt', 'r') as f:\n",
    "    d = {}\n",
    "    for i,line in enumerate(f.read().splitlines()):\n",
    "        pattern = line.split('|')[0].split()\n",
    "        output = line.split('|')[1].split()\n",
    "        d[i] = {}\n",
    "        d[i]['pattern'] = pattern\n",
    "        d[i]['output'] = output"
   ]
  },
  {
   "cell_type": "code",
   "execution_count": 157,
   "id": "338c74ac",
   "metadata": {},
   "outputs": [],
   "source": [
    "def find_digits(pattern):\n",
    "    digits = {}\n",
    "    digits[1] =[set(pat) for pat in pattern if len(pat)==2][0]\n",
    "    digits[4] =[set(pat) for pat in pattern if len(pat)==4][0]\n",
    "    digits[7] =[set(pat) for pat in pattern if len(pat)==3][0]\n",
    "    digits[8] =[set(pat) for pat in pattern if len(pat)==7][0]\n",
    "    digits[0] =[set(pat) for pat in pattern if len(pat)==6 and ((digits[8]-set(pat))& (digits[4]-digits[7]) != set())][0]\n",
    "    digits[6] =[set(pat) for pat in pattern if len(pat)==6 and ((digits[8]-set(pat))& digits[7] != set())][0]\n",
    "    digits[9] =[set(pat) for pat in pattern if len(pat)==6 and (set(pat) not in [digits[0], digits[6]])][0]\n",
    "    digits[2] =[set(pat) for pat in pattern if len(pat)==5 and len(digits[4]-set(pat))==2][0]\n",
    "    digits[5] =[set(pat) for pat in pattern if len(pat)==5 and len(digits[6]-set(pat))==1][0]\n",
    "    digits[3] =[set(pat) for pat in pattern if len(pat)==5 and len(digits[4]-set(pat))==1 and (set(pat) != digits[5])][0]\n",
    "    return digits"
   ]
  },
  {
   "cell_type": "code",
   "execution_count": 158,
   "id": "d9fe07fe",
   "metadata": {},
   "outputs": [
    {
     "name": "stdout",
     "output_type": "stream",
     "text": [
      "Part 1 result: 237\n",
      "Part 2 result: 1009098\n"
     ]
    }
   ],
   "source": [
    "total_uniques = 0\n",
    "tot = 0\n",
    "for i in d:\n",
    "    pattern = d[i]['pattern']\n",
    "    digits = find_digits(pattern)\n",
    "    output = d[i]['output']\n",
    "    num = int(''.join([''.join([str(i) for i in digits.keys() if digits[i] == set(out)]) for out in output]))\n",
    "    tot += num\n",
    "    for out in output:\n",
    "        if len(out) in [2, 4, 3, 7]:\n",
    "            total_uniques += 1\n",
    "print(f'Part 1 result: {total_uniques}')\n",
    "print(f'Part 2 result: {tot}')"
   ]
  }
 ],
 "metadata": {
  "kernelspec": {
   "display_name": "Python 3",
   "language": "python",
   "name": "python3"
  },
  "language_info": {
   "codemirror_mode": {
    "name": "ipython",
    "version": 3
   },
   "file_extension": ".py",
   "mimetype": "text/x-python",
   "name": "python",
   "nbconvert_exporter": "python",
   "pygments_lexer": "ipython3",
   "version": "3.8.10"
  }
 },
 "nbformat": 4,
 "nbformat_minor": 5
}
