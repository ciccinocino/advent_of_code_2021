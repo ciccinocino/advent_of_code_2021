{
 "cells": [
  {
   "cell_type": "code",
   "execution_count": 213,
   "id": "ea753458",
   "metadata": {},
   "outputs": [],
   "source": [
    "from pprint import pprint\n",
    "with open('inputs/05.txt', 'r') as f:\n",
    "    lines = [line.strip() for line in f.readlines()]\n",
    "points = []\n",
    "for line in lines:\n",
    "    row = [line.split('->')[0].strip(), line.split('->')[1].strip()]\n",
    "    row = [int(row[0].split(',')[0]), int(row[0].split(',')[1]), int(row[1].split(',')[0]), int(row[1].split(',')[1])]\n",
    "    points.append(row)"
   ]
  },
  {
   "cell_type": "code",
   "execution_count": 214,
   "id": "29ae330c",
   "metadata": {},
   "outputs": [
    {
     "name": "stdout",
     "output_type": "stream",
     "text": [
      "Part 1 result: 8060\n",
      "Part 2 result: 21577\n"
     ]
    }
   ],
   "source": [
    "import numpy as np\n",
    "array = np.array(points)\n",
    "max_x = max(max(array[:,0]), max(array[:,2]))\n",
    "max_y = max(max(array[:,1]), max(array[:,3]))\n",
    "grid1 = np.zeros((max_x+1, max_y+1), dtype=int)\n",
    "grid2 = np.zeros((max_x+1, max_y+1), dtype=int)\n",
    "for line in array:\n",
    "    x1 = line[0]\n",
    "    y1 = line[1]\n",
    "    x2 = line[2]\n",
    "    y2 = line[3]\n",
    "    #print(grid)\n",
    "    #print(f'({x1},{y1}) -> ({x2},{y2})')\n",
    "    if x1 != x2 and y1 != y2:\n",
    "        #print('Ranges:', x2 - x1, y2 - y1)\n",
    "        range_x = range(0, x2 - x1 + 1) if x2-x1>0 else range(0, x2-x1-1, -1)\n",
    "        range_y = range(0, y2 - y1 + 1, 1) if y2-y1>0 else range(0, y2-y1-1, -1)\n",
    "        for i in range_x:\n",
    "            for j in range_y:\n",
    "                new_x, new_y = x1+i, y1+j \n",
    "                #print(new_x, new_y)\n",
    "                if abs(i) != abs(j):\n",
    "                    continue\n",
    "                else:\n",
    "                    grid2[max_y-new_y, new_x] += 1\n",
    "    elif x1 == x2:\n",
    "        grid1[max_y-max(y1,y2):max_y-min(y1,y2)+1,x1] += 1\n",
    "        grid2[max_y-max(y1,y2):max_y-min(y1,y2)+1,x1] += 1\n",
    "    elif y1 == y2:\n",
    "        grid1[max_y-y1,min(x1,x2):max(x1,x2)+1] += 1\n",
    "        grid2[max_y-y1,min(x1,x2):max(x1,x2)+1] += 1\n",
    "print(f'Part 1 result: {len(grid1[grid1>1])}')\n",
    "print(f'Part 2 result: {len(grid2[grid2>1])}')"
   ]
  }
 ],
 "metadata": {
  "kernelspec": {
   "display_name": "Python 3",
   "language": "python",
   "name": "python3"
  },
  "language_info": {
   "codemirror_mode": {
    "name": "ipython",
    "version": 3
   },
   "file_extension": ".py",
   "mimetype": "text/x-python",
   "name": "python",
   "nbconvert_exporter": "python",
   "pygments_lexer": "ipython3",
   "version": "3.8.10"
  }
 },
 "nbformat": 4,
 "nbformat_minor": 5
}
