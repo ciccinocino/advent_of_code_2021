{
 "cells": [
  {
   "cell_type": "code",
   "execution_count": 83,
   "id": "5d363064",
   "metadata": {},
   "outputs": [],
   "source": [
    "with open('inputs/03.txt', 'r') as f:\n",
    "    lines = [line.strip() for line in f.readlines()]"
   ]
  },
  {
   "cell_type": "code",
   "execution_count": 84,
   "id": "089e1888",
   "metadata": {},
   "outputs": [],
   "source": [
    "def most_least_common_digit(index, codes):\n",
    "    sum = 0\n",
    "    for line in codes:\n",
    "        sum += int(line[index])\n",
    "    if sum >= len(codes)/2:\n",
    "        return ('1', '0')  \n",
    "    else:\n",
    "        return ('0', '1')"
   ]
  },
  {
   "cell_type": "code",
   "execution_count": 87,
   "id": "39584aed",
   "metadata": {},
   "outputs": [
    {
     "name": "stdout",
     "output_type": "stream",
     "text": [
      "Part 1 solution: 3885894\n",
      "Part 2 solution: 4375225\n"
     ]
    }
   ],
   "source": [
    "l = len(lines[0])\n",
    "gamma = ''\n",
    "epsilon = ''\n",
    "gen = ''\n",
    "gens = lines\n",
    "scrub = ''\n",
    "scrubs = lines\n",
    "for i in range(l):\n",
    "    most, least = most_least_common_digit(i, lines)\n",
    "    gamma += most\n",
    "    epsilon += least\n",
    "    most, least = most_least_common_digit(i, gens)\n",
    "    if len(gens) > 1:\n",
    "        gens = [line for line in gens if most in line[i]]\n",
    "    most, least = most_least_common_digit(i, scrubs)\n",
    "    if len(scrubs) > 1:\n",
    "        scrubs = [line for line in scrubs if least in line[i]]\n",
    "print(f'Part 1 solution: {int(gamma,2)*int(epsilon,2)}')\n",
    "print(f'Part 2 solution: {int(gens[0],2)*int(scrubs[0],2)}')"
   ]
  }
 ],
 "metadata": {
  "kernelspec": {
   "display_name": "Python 3",
   "language": "python",
   "name": "python3"
  },
  "language_info": {
   "codemirror_mode": {
    "name": "ipython",
    "version": 3
   },
   "file_extension": ".py",
   "mimetype": "text/x-python",
   "name": "python",
   "nbconvert_exporter": "python",
   "pygments_lexer": "ipython3",
   "version": "3.8.10"
  }
 },
 "nbformat": 4,
 "nbformat_minor": 5
}
