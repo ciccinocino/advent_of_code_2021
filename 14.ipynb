{
 "cells": [
  {
   "cell_type": "code",
   "execution_count": 1,
   "id": "a69ff9f1",
   "metadata": {},
   "outputs": [],
   "source": [
    "with open('inputs/14.txt') as f:\n",
    "    lines = f.read().splitlines()"
   ]
  },
  {
   "cell_type": "code",
   "execution_count": 2,
   "id": "ad6f37e8",
   "metadata": {},
   "outputs": [],
   "source": [
    "def update(poly):\n",
    "    from copy import deepcopy\n",
    "    new_polymer = deepcopy(poly)\n",
    "    for pair, count in poly.items():\n",
    "        new_polymer[pair] -= count\n",
    "        if new_polymer[pair] <= 0:\n",
    "            del new_polymer[pair]\n",
    "        c = rules[pair]\n",
    "        pair1, pair2 =  pair[0] + c, c + pair[1]\n",
    "        if pair1 in new_polymer:\n",
    "            new_polymer[pair1] += count\n",
    "        else:\n",
    "            new_polymer[pair1] = count\n",
    "        if pair2 in new_polymer:\n",
    "            new_polymer[pair2] += count\n",
    "        else:\n",
    "            new_polymer[pair2] = count\n",
    "    return new_polymer\n",
    "\n",
    "def get_letters(polymer):\n",
    "    letters = {}\n",
    "    for pair, count in polymer.items():\n",
    "        l1, l2 = pair[0], pair[1]\n",
    "        if l2 not in letters:\n",
    "            letters[l2] = count\n",
    "        else:\n",
    "            letters[l2] += count\n",
    "    letters[first_letter] += 1\n",
    "    return letters"
   ]
  },
  {
   "cell_type": "code",
   "execution_count": 3,
   "id": "d2c5dfd0",
   "metadata": {},
   "outputs": [
    {
     "name": "stdout",
     "output_type": "stream",
     "text": [
      "Part 1 result: 3259\n",
      "Part 2 result: 3459174981021\n"
     ]
    }
   ],
   "source": [
    "from collections import Counter\n",
    "template = lines[0]\n",
    "rules = {}\n",
    "for line in lines[2:]:\n",
    "    start, finish = line.split(' -> ')\n",
    "    rules[start] = finish\n",
    "polymer = dict(Counter([template[i]+template[i+1] for i in range(len(template)-1)]))\n",
    "first_letter = template[0]\n",
    "for i in range(10):\n",
    "    polymer = update(polymer)\n",
    "letters = get_letters(polymer)\n",
    "quantities = sorted([count for count in letters.values()], reverse=True)\n",
    "print(f'Part 1 result: {quantities[0] - quantities[-1]}')\n",
    "for i in range(40-10):\n",
    "    polymer = update(polymer)\n",
    "letters = get_letters(polymer)\n",
    "quantities = sorted([count for count in letters.values()], reverse=True)\n",
    "print(f'Part 2 result: {quantities[0] - quantities[-1]}')"
   ]
  }
 ],
 "metadata": {
  "kernelspec": {
   "display_name": "Python 3",
   "language": "python",
   "name": "python3"
  },
  "language_info": {
   "codemirror_mode": {
    "name": "ipython",
    "version": 3
   },
   "file_extension": ".py",
   "mimetype": "text/x-python",
   "name": "python",
   "nbconvert_exporter": "python",
   "pygments_lexer": "ipython3",
   "version": "3.8.10"
  }
 },
 "nbformat": 4,
 "nbformat_minor": 5
}
