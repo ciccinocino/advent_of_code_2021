{
 "cells": [
  {
   "cell_type": "code",
   "execution_count": 1,
   "id": "03a0af3c",
   "metadata": {},
   "outputs": [],
   "source": [
    "with open('inputs/13.txt') as f:\n",
    "    marks = []\n",
    "    folds = []\n",
    "    for line in f.read().splitlines():\n",
    "        if 'fold' in line:\n",
    "            axis, place = line.split('=')\n",
    "            fold = [0 if axis[-1] == 'x' else 1]\n",
    "            fold.append(int(place))\n",
    "            folds.append(fold)\n",
    "        elif line != '':\n",
    "            marks.append([int(n) for n in line.split(',')])"
   ]
  },
  {
   "cell_type": "code",
   "execution_count": 2,
   "id": "2fe952a4",
   "metadata": {},
   "outputs": [],
   "source": [
    "def make_fold(grid, fold):\n",
    "    axis, place = fold\n",
    "    lx, ly = grid.shape\n",
    "    grid1 = grid[:place,:] if axis == 0 else grid[:,:place]\n",
    "    grid2 = grid[lx:place:-1,:] if axis == 0 else grid[:,ly:place:-1]\n",
    "    grids = [grid1, grid2]\n",
    "    smaller = 1*(grid1.shape[axis] > grid2.shape[axis])\n",
    "    larger = 1-smaller\n",
    "    zeros_shape = (grids[larger].shape[axis]-grids[smaller].shape[axis], grid.shape[1-axis])\n",
    "    filling_zeros = np.zeros(shape=zeros_shape, dtype=int)\n",
    "    grids[smaller] = np.insert(grids[smaller], 0, filling_zeros, axis=axis)\n",
    "    new_grid = grids[larger] + grids[smaller]\n",
    "    new_grid[new_grid > 1] = 1\n",
    "    return new_grid"
   ]
  },
  {
   "cell_type": "code",
   "execution_count": 12,
   "id": "de96ede8",
   "metadata": {},
   "outputs": [
    {
     "name": "stdout",
     "output_type": "stream",
     "text": [
      "Part 1 result: 592\n",
      "Part 2 result:\n",
      "  ██  ██   ██    ██ ████ ████ █  █ █  █ \n",
      "   █ █  █ █  █    █ █    █    █ █  █  █ \n",
      "   █ █    █  █    █ ███  ███  ██   █  █ \n",
      "   █ █ ██ ████    █ █    █    █ █  █  █ \n",
      "█  █ █  █ █  █ █  █ █    █    █ █  █  █ \n",
      " ██   ███ █  █  ██  ████ █    █  █  ██  \n"
     ]
    }
   ],
   "source": [
    "import numpy as np\n",
    "marks_array = np.array(marks)\n",
    "max_x, max_y = np.max(marks_array[:,0])+1, np.max(marks_array[:,1])+1\n",
    "grid = np.zeros(shape=(max_x, max_y), dtype=int)\n",
    "for x,y in marks:\n",
    "    grid[x,y] = 1\n",
    "for i,fold in enumerate(folds):\n",
    "    grid = make_fold(grid, fold)\n",
    "    if i < 1:\n",
    "        print(f'Part 1 result: {np.sum(grid[grid==1])}')\n",
    "char_grid = []\n",
    "for y in range(grid.shape[1]):\n",
    "    line = []\n",
    "    for x in range(grid.shape[0]):\n",
    "        line.append(' ' if grid[x,y] == 0 else chr(9608)) #9608 -> ASCII 219 code block\n",
    "    char_grid.append(line)\n",
    "print('Part 2 result:')\n",
    "with np.printoptions(linewidth=np.inf):\n",
    "    for line in char_grid:\n",
    "        print(''.join(line))"
   ]
  }
 ],
 "metadata": {
  "celltoolbar": "Raw Cell Format",
  "kernelspec": {
   "display_name": "Python 3",
   "language": "python",
   "name": "python3"
  },
  "language_info": {
   "codemirror_mode": {
    "name": "ipython",
    "version": 3
   },
   "file_extension": ".py",
   "mimetype": "text/x-python",
   "name": "python",
   "nbconvert_exporter": "python",
   "pygments_lexer": "ipython3",
   "version": "3.8.10"
  }
 },
 "nbformat": 4,
 "nbformat_minor": 5
}
