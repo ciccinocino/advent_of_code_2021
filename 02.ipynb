{
 "cells": [
  {
   "cell_type": "code",
   "execution_count": 22,
   "id": "b2b2b5fa",
   "metadata": {},
   "outputs": [],
   "source": [
    "with open('inputs/02.txt', 'r') as f:\n",
    "    lines = [line.strip() for line in f.readlines()]"
   ]
  },
  {
   "cell_type": "code",
   "execution_count": 24,
   "id": "9953c3f7",
   "metadata": {},
   "outputs": [
    {
     "name": "stdout",
     "output_type": "stream",
     "text": [
      "Part 1 solution: 1762050\n",
      "Part 2 solution: 1855892637\n"
     ]
    }
   ],
   "source": [
    "x1, y1, x2, y2, aim = 0, 0, 0, 0, 0\n",
    "for line in lines:\n",
    "    X = int(line.split()[1])\n",
    "    if 'forward' in line:\n",
    "        x1 += X\n",
    "        x2 += X\n",
    "        y2 += X*aim\n",
    "    elif 'down' in line:\n",
    "        y1 += X\n",
    "        aim += X\n",
    "    elif 'up' in line:\n",
    "        y1 -= X\n",
    "        aim -= X\n",
    "print(f'Part 1 solution: {x1*y1}')\n",
    "print(f'Part 2 solution: {x2*y2}')"
   ]
  }
 ],
 "metadata": {
  "kernelspec": {
   "display_name": "Python 3",
   "language": "python",
   "name": "python3"
  },
  "language_info": {
   "codemirror_mode": {
    "name": "ipython",
    "version": 3
   },
   "file_extension": ".py",
   "mimetype": "text/x-python",
   "name": "python",
   "nbconvert_exporter": "python",
   "pygments_lexer": "ipython3",
   "version": "3.8.10"
  }
 },
 "nbformat": 4,
 "nbformat_minor": 5
}
