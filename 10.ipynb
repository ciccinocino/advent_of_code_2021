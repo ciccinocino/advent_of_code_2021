{
 "cells": [
  {
   "cell_type": "code",
   "execution_count": 61,
   "id": "2f2ead1b",
   "metadata": {},
   "outputs": [],
   "source": [
    "with open('inputs/10.txt') as f:\n",
    "    system = f.read().splitlines()"
   ]
  },
  {
   "cell_type": "code",
   "execution_count": 62,
   "id": "1e75e897",
   "metadata": {},
   "outputs": [
    {
     "name": "stdout",
     "output_type": "stream",
     "text": [
      "Part 1 result: 311949\n",
      "Part 2 result: 3042730309\n"
     ]
    }
   ],
   "source": [
    "from copy import deepcopy\n",
    "chunks = ['()', '[]', '{}', '<>']\n",
    "opens = ['(', '[', '{', '<']\n",
    "closes = [')', ']', '}', '>']\n",
    "penalty = {')': 3, \n",
    "           ']': 57, \n",
    "           '}': 1197, \n",
    "           '>': 25137}\n",
    "reward = {')': 1, \n",
    "          ']': 2, \n",
    "          '}': 3, \n",
    "          '>': 4}\n",
    "lines = deepcopy(system)\n",
    "points1 = 0\n",
    "scores = []\n",
    "for n,line in enumerate(lines):\n",
    "    i = 0\n",
    "    while True:\n",
    "        if i == len(line)-1:\n",
    "            break\n",
    "        if line[i]+line[i+1] in chunks:\n",
    "            line = line[:i] + line[i+2:]\n",
    "            i -= 1\n",
    "        else:\n",
    "            i += 1\n",
    "    if any([c in closes for c in line]):\n",
    "        illegal = [c for c in line if c in closes][0]\n",
    "        points1 += penalty[illegal]\n",
    "    else:\n",
    "        points = 0\n",
    "        missing = []\n",
    "        for j in line[-1::-1]:\n",
    "            closing = [closes[i] for i,o in enumerate(opens) if j == o][0]\n",
    "            missing.append(closing)\n",
    "        for m in missing:\n",
    "            points *= 5\n",
    "            points += reward[m]\n",
    "        scores.append(points)\n",
    "print(f'Part 1 result: {points1}')\n",
    "print(f'Part 2 result: {sorted(scores)[int(len(scores)/2)]}')"
   ]
  }
 ],
 "metadata": {
  "kernelspec": {
   "display_name": "Python 3",
   "language": "python",
   "name": "python3"
  },
  "language_info": {
   "codemirror_mode": {
    "name": "ipython",
    "version": 3
   },
   "file_extension": ".py",
   "mimetype": "text/x-python",
   "name": "python",
   "nbconvert_exporter": "python",
   "pygments_lexer": "ipython3",
   "version": "3.8.10"
  }
 },
 "nbformat": 4,
 "nbformat_minor": 5
}
