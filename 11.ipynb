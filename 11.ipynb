{
 "cells": [
  {
   "cell_type": "code",
   "execution_count": 58,
   "id": "6c6b2b57",
   "metadata": {},
   "outputs": [],
   "source": [
    "with open('inputs/11.txt') as f:\n",
    "    numbers = [[int(n) for n in line] for line in f.read().splitlines()]"
   ]
  },
  {
   "cell_type": "code",
   "execution_count": 59,
   "id": "4a4e4c10",
   "metadata": {},
   "outputs": [],
   "source": [
    "def get_neighbors(x,y):\n",
    "    neighbors = []\n",
    "    for i in range(-1,2):\n",
    "        for j in range(-1,2):\n",
    "            if i == 0 and j == 0:\n",
    "                continue\n",
    "            new_x, new_y = x + i, y + j\n",
    "            if new_x not in [-1, lx] and new_y not in [-1, ly]:\n",
    "                neighbors.append((new_x, new_y))\n",
    "    return neighbors\n",
    "\n",
    "def update(array):\n",
    "    array = array + 1\n",
    "    flashes = 0\n",
    "    flashed = set()\n",
    "    while np.any(array > 9):\n",
    "        for i in range(len(array)):\n",
    "            for j in range(len(array[0])):\n",
    "                if array[i, j] > 9:\n",
    "                    flashed.add((i,j))\n",
    "                    array[i, j] = 0\n",
    "                    flashes += 1\n",
    "                    neighbors = get_neighbors(i,j)\n",
    "                    for n in neighbors:\n",
    "                        x, y = n\n",
    "                        array[n] = array[n] + 1\n",
    "    for flash in flashed:\n",
    "        array[flash] = 0\n",
    "    return array, flashes"
   ]
  },
  {
   "cell_type": "code",
   "execution_count": 60,
   "id": "919ea648",
   "metadata": {},
   "outputs": [
    {
     "name": "stdout",
     "output_type": "stream",
     "text": [
      "Part 1 result: 1599\n",
      "Part 2 result: 418\n"
     ]
    }
   ],
   "source": [
    "import numpy as np\n",
    "array = np.array(numbers)\n",
    "lx, ly = array.shape\n",
    "tot_flashes = 0\n",
    "first = 0\n",
    "i = 0\n",
    "while True:\n",
    "    array, flashes = update(array)\n",
    "    i += 1\n",
    "    if i <= 100:\n",
    "        tot_flashes += flashes\n",
    "    if np.all(array == 0):\n",
    "        first = i\n",
    "        break\n",
    "print(f'Part 1 result: {tot_flashes}')\n",
    "print(f'Part 2 result: {first}')"
   ]
  }
 ],
 "metadata": {
  "kernelspec": {
   "display_name": "Python 3",
   "language": "python",
   "name": "python3"
  },
  "language_info": {
   "codemirror_mode": {
    "name": "ipython",
    "version": 3
   },
   "file_extension": ".py",
   "mimetype": "text/x-python",
   "name": "python",
   "nbconvert_exporter": "python",
   "pygments_lexer": "ipython3",
   "version": "3.8.10"
  }
 },
 "nbformat": 4,
 "nbformat_minor": 5
}
