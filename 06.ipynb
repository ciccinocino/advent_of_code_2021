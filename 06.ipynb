{
 "cells": [
  {
   "cell_type": "code",
   "execution_count": 23,
   "id": "f930af74",
   "metadata": {},
   "outputs": [],
   "source": [
    "with open('inputs/06.txt', 'r') as f:\n",
    "    start = [int(n) for n in f.read().splitlines()[0].split(',')]"
   ]
  },
  {
   "cell_type": "code",
   "execution_count": 26,
   "id": "3b99ca8f",
   "metadata": {},
   "outputs": [],
   "source": [
    "def update(d):\n",
    "    new_d = {}\n",
    "    for i in range(9):\n",
    "        new_d[i] = d[(i+1)%9]\n",
    "    new_d[6] += d[0]\n",
    "    return new_d"
   ]
  },
  {
   "cell_type": "code",
   "execution_count": 27,
   "id": "f819f8f1",
   "metadata": {},
   "outputs": [
    {
     "name": "stdout",
     "output_type": "stream",
     "text": [
      "Part 1 result: 362639\n",
      "Part 2 result: 1639854996917\n"
     ]
    }
   ],
   "source": [
    "from collections import Counter\n",
    "d = Counter(start)\n",
    "for i in range(80):\n",
    "    d = update(d)\n",
    "print(f'Part 1 result: {sum([n for n in d.values()])}')\n",
    "for i in range(256-80):\n",
    "    d = update(d)\n",
    "print(f'Part 2 result: {sum([n for n in d.values()])}')"
   ]
  }
 ],
 "metadata": {
  "kernelspec": {
   "display_name": "Python 3",
   "language": "python",
   "name": "python3"
  },
  "language_info": {
   "codemirror_mode": {
    "name": "ipython",
    "version": 3
   },
   "file_extension": ".py",
   "mimetype": "text/x-python",
   "name": "python",
   "nbconvert_exporter": "python",
   "pygments_lexer": "ipython3",
   "version": "3.8.10"
  }
 },
 "nbformat": 4,
 "nbformat_minor": 5
}
