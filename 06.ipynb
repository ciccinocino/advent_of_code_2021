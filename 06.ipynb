{
 "cells": [
  {
   "cell_type": "code",
   "execution_count": 43,
   "id": "f930af74",
   "metadata": {},
   "outputs": [],
   "source": [
    "with open('inputs/06.txt', 'r') as f:\n",
    "    start = [int(n) for n in f.read().splitlines()[0].split(',')]"
   ]
  },
  {
   "cell_type": "code",
   "execution_count": 44,
   "id": "3b99ca8f",
   "metadata": {},
   "outputs": [],
   "source": [
    "def update(d):\n",
    "    new_d = {}\n",
    "    new_d[0] = d[1]\n",
    "    new_d[1] = d[2]\n",
    "    new_d[2] = d[3]\n",
    "    new_d[3] = d[4]\n",
    "    new_d[4] = d[5]\n",
    "    new_d[5] = d[6]\n",
    "    new_d[6] = d[7] + d[0]\n",
    "    new_d[7] = d[8]\n",
    "    new_d[8] = d[0]\n",
    "    return new_d"
   ]
  },
  {
   "cell_type": "code",
   "execution_count": 46,
   "id": "f819f8f1",
   "metadata": {},
   "outputs": [
    {
     "name": "stdout",
     "output_type": "stream",
     "text": [
      "Part 1 result: 362639\n",
      "Part 2 result: 1639854996917\n"
     ]
    }
   ],
   "source": [
    "d = {}\n",
    "for i in range(9):\n",
    "    d[i] = len([n for n in start if n==i])\n",
    "for i in range(80):\n",
    "    d = update(d)\n",
    "print(f'Part 1 result: {sum([n for n in d.values()])}')\n",
    "for i in range(256-80):\n",
    "    d = update(d)\n",
    "print(f'Part 2 result: {sum([n for n in d.values()])}')"
   ]
  }
 ],
 "metadata": {
  "kernelspec": {
   "display_name": "Python 3",
   "language": "python",
   "name": "python3"
  },
  "language_info": {
   "codemirror_mode": {
    "name": "ipython",
    "version": 3
   },
   "file_extension": ".py",
   "mimetype": "text/x-python",
   "name": "python",
   "nbconvert_exporter": "python",
   "pygments_lexer": "ipython3",
   "version": "3.8.10"
  }
 },
 "nbformat": 4,
 "nbformat_minor": 5
}
