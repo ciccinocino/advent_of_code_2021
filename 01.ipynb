{
 "cells": [
  {
   "cell_type": "code",
   "execution_count": 4,
   "id": "e007b5f6",
   "metadata": {},
   "outputs": [
    {
     "name": "stdout",
     "output_type": "stream",
     "text": [
      "Part 1 solution: 1548\n",
      "Part 2 solution: 1589\n"
     ]
    }
   ],
   "source": [
    "with open('inputs/01.txt', 'r') as f:\n",
    "    depths = [int(depth.strip()) for depth in f.readlines()]\n",
    "    inc = 0\n",
    "    inc_roll = 0\n",
    "    for i, depth in enumerate(depths):\n",
    "        if i > 0 and depth > depths[i-1]:\n",
    "            inc += 1\n",
    "        if i > 2:\n",
    "            cur_roll = depth + depths[i-1] + depths[i-2]\n",
    "            prev_roll = depths[i-1] + depths[i-2] + depths[i-3]\n",
    "            if cur_roll > prev_roll:\n",
    "                inc_roll += 1\n",
    "    print(f'Part 1 solution: {inc}')\n",
    "    print(f'Part 2 solution: {inc_roll}')"
   ]
  }
 ],
 "metadata": {
  "kernelspec": {
   "display_name": "Python 3",
   "language": "python",
   "name": "python3"
  },
  "language_info": {
   "codemirror_mode": {
    "name": "ipython",
    "version": 3
   },
   "file_extension": ".py",
   "mimetype": "text/x-python",
   "name": "python",
   "nbconvert_exporter": "python",
   "pygments_lexer": "ipython3",
   "version": "3.8.10"
  }
 },
 "nbformat": 4,
 "nbformat_minor": 5
}
