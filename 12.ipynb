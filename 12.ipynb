{
 "cells": [
  {
   "cell_type": "code",
   "execution_count": 109,
   "id": "6559b6c8",
   "metadata": {},
   "outputs": [],
   "source": [
    "with open('inputs/12.txt') as f:\n",
    "    lines = f.read().splitlines()\n",
    "#print(lines)"
   ]
  },
  {
   "cell_type": "code",
   "execution_count": 110,
   "id": "e0cb415f",
   "metadata": {},
   "outputs": [],
   "source": [
    "graph = {}\n",
    "for line in lines:\n",
    "    start, end = line.split('-')\n",
    "    if start not in graph.keys():\n",
    "        graph[start] = [end]\n",
    "    else:\n",
    "        graph[start].append(end)\n",
    "    if end not in graph.keys():\n",
    "        graph[end] = [start]\n",
    "    else:\n",
    "        graph[end].append(start)\n",
    "\n",
    "#print(graph)"
   ]
  },
  {
   "cell_type": "code",
   "execution_count": null,
   "id": "eb4c897b",
   "metadata": {},
   "outputs": [],
   "source": [
    "import re\n",
    "from collections import Counter\n",
    "visitedList = []\n",
    "upper = re.compile('[A-Z]+')\n",
    "lower = re.compile('[a-z]+')\n",
    "\n",
    "def depthFirst(graph, currentVertex, visited):\n",
    "    visited.append(currentVertex)\n",
    "    if currentVertex == 'end':\n",
    "        visitedList.append(visited)\n",
    "    else:\n",
    "        for vertex in graph[currentVertex]:\n",
    "            is_upper = upper.match(vertex) is not None\n",
    "            visited_counter = Counter(visited)\n",
    "            #print(visited_counter)\n",
    "            low_counter = [node for node, count in visited_counter.items() if lower.match(node) and count > 1 and node not in ['start', 'end']]\n",
    "            if vertex != 'start':# and vertex not in visited:\n",
    "                if (is_upper or visited_counter[vertex] <= 1) and len(low_counter) < 2:\n",
    "                    depthFirst(graph, vertex, visited.copy())\n",
    "        #visitedList.append(visited)\n",
    "    \n",
    "depthFirst(graph, 'start', [])\n",
    "valid_paths1, valid_paths2 = 0, 0\n",
    "for path in visitedList:\n",
    "    node_counter = Counter(path)\n",
    "    lower_counter = [node for node, count in node_counter.items() if lower.match(node) and count > 1 and node != 'start']\n",
    "    valid_1 = len(lower_counter) == 0\n",
    "    valid_2 = valid_1 or (len(lower_counter) == 1 and 'end' not in lower_counter[0])\n",
    "    #print(path, lower_counter, valid_1, valid_2)\n",
    "    #print(lower_counter)\n",
    "    if path[-1] == 'end':\n",
    "        if valid_1:\n",
    "            valid_paths1 += 1\n",
    "        if valid_2:\n",
    "            valid_paths2 += 1\n",
    "#print('\\n\\n\\n')\n",
    "from pprint import pprint\n",
    "#pprint(valid_paths)\n",
    "print(f'Part 1 result: {valid_paths1}')\n",
    "print(f'Part 2 result: {valid_paths2}')"
   ]
  }
 ],
 "metadata": {
  "kernelspec": {
   "display_name": "Python 3",
   "language": "python",
   "name": "python3"
  },
  "language_info": {
   "codemirror_mode": {
    "name": "ipython",
    "version": 3
   },
   "file_extension": ".py",
   "mimetype": "text/x-python",
   "name": "python",
   "nbconvert_exporter": "python",
   "pygments_lexer": "ipython3",
   "version": "3.8.10"
  }
 },
 "nbformat": 4,
 "nbformat_minor": 5
}
