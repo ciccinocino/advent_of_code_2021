{
 "cells": [
  {
   "cell_type": "code",
   "execution_count": 1,
   "id": "5a3b335d",
   "metadata": {},
   "outputs": [],
   "source": [
    "with open('inputs/04.txt', 'r') as f:\n",
    "    lines = [line.strip() for line in f.readlines()]"
   ]
  },
  {
   "cell_type": "code",
   "execution_count": 6,
   "id": "bb46067f",
   "metadata": {},
   "outputs": [],
   "source": [
    "draws = [int(n) for n in lines[0].split(',')]\n",
    "boards = []\n",
    "boards = [[[int(n) for n in lines[i].split()] for i in range(k, k+5)]for k in range(2, len(lines)-4, 6) ]"
   ]
  },
  {
   "cell_type": "code",
   "execution_count": 7,
   "id": "bb22ec18",
   "metadata": {},
   "outputs": [],
   "source": [
    "def winning_board():\n",
    "    winning_indexes = []\n",
    "    for j in indexes:\n",
    "        if (array[j] == -1).all(axis=0).any() or (array[j] == -1).all(axis=1).any():\n",
    "            winning_indexes.append(j)\n",
    "    return winning_indexes if winning_indexes else -1"
   ]
  },
  {
   "cell_type": "code",
   "execution_count": 8,
   "id": "9034dc8d",
   "metadata": {},
   "outputs": [
    {
     "name": "stdout",
     "output_type": "stream",
     "text": [
      "Part 1 result: 35670\n",
      "Part 2 result: 22704\n"
     ]
    }
   ],
   "source": [
    "from copy import deepcopy\n",
    "import numpy as np\n",
    "array = np.array(boards)\n",
    "i = 0\n",
    "indexes = list(range(array.shape[0]))\n",
    "for draw in draws:\n",
    "    array[array==draw] = -1\n",
    "    i = winning_board()\n",
    "    if i != -1:\n",
    "        if indexes == list(range(array.shape[0])):\n",
    "            first_board = deepcopy(array[i[0]])\n",
    "            first_draw = draw\n",
    "        for id in i:\n",
    "            indexes.remove(id)\n",
    "        if len(indexes) < 1:\n",
    "            last_board = deepcopy(array[i[0]])\n",
    "            last_draw = draw\n",
    "            break\n",
    "print(f'Part 1 result: {first_board.sum(where=(first_board != -1))*first_draw}')\n",
    "print(f'Part 2 result: {last_board.sum(where=(last_board != -1))*last_draw}')"
   ]
  }
 ],
 "metadata": {
  "kernelspec": {
   "display_name": "Python 3",
   "language": "python",
   "name": "python3"
  },
  "language_info": {
   "codemirror_mode": {
    "name": "ipython",
    "version": 3
   },
   "file_extension": ".py",
   "mimetype": "text/x-python",
   "name": "python",
   "nbconvert_exporter": "python",
   "pygments_lexer": "ipython3",
   "version": "3.8.10"
  }
 },
 "nbformat": 4,
 "nbformat_minor": 5
}
