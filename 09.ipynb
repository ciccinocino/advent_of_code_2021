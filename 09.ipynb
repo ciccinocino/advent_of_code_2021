{
 "cells": [
  {
   "cell_type": "code",
   "execution_count": 38,
   "id": "652b0ca1",
   "metadata": {},
   "outputs": [],
   "source": [
    "with open('inputs/09.txt') as f:\n",
    "    numbers = [[int(n) for n in row] for row in f.read().splitlines()]"
   ]
  },
  {
   "cell_type": "code",
   "execution_count": 39,
   "id": "b47ba3f5",
   "metadata": {},
   "outputs": [],
   "source": [
    "def find_low_points(grid):\n",
    "    from copy import deepcopy\n",
    "    new_grid = deepcopy(grid)\n",
    "    lx, ly = grid.shape\n",
    "    for x in range(lx):\n",
    "        for y in range(ly):\n",
    "            neighbors = get_neighbors(x, y)\n",
    "            for newx, newy in neighbors:\n",
    "                current = grid[newx, newy]\n",
    "                if grid[x, y] >= current:\n",
    "                    new_grid[x, y] = -1\n",
    "                    break\n",
    "    return new_grid\n",
    "\n",
    "def get_neighbors(x, y):\n",
    "    lx, ly = array.shape\n",
    "    neighbors = []\n",
    "    for i in range(-1,2):\n",
    "        for j in range(-1,2):\n",
    "            if i ==  j:\n",
    "                continue\n",
    "            new_x, new_y = x + i, y + j\n",
    "            if new_x not in [-1, lx] and new_y not in [-1, ly]:\n",
    "                neighbors.append((new_x, new_y))\n",
    "    return neighbors\n",
    "\n",
    "def get_basin(x, y):\n",
    "    basin = {(x,y)}\n",
    "    if x-1 > -1 and array[x-1, y] != 9 and array[x-1, y] > array[x,y]:\n",
    "        bas = get_basin(x-1, y)\n",
    "        for b in bas:\n",
    "            basin.add(b)\n",
    "    if x+1 < array.shape[0] and array[x+1, y] != 9 and array[x+1, y] > array[x,y]:\n",
    "        bas = get_basin(x+1, y)\n",
    "        for b in bas:\n",
    "            basin.add(b)\n",
    "    if y-1 > -1 and array[x, y-1] != 9 and array[x, y-1] > array[x,y]:\n",
    "        bas = get_basin(x, y-1)\n",
    "        for b in bas:\n",
    "            basin.add(b)\n",
    "    if y+1 < array.shape[1] and array[x, y+1] != 9 and array[x, y+1] > array[x,y]:\n",
    "        bas = get_basin(x, y+1)\n",
    "        for b in bas:\n",
    "            basin.add(b)\n",
    "    return basin"
   ]
  },
  {
   "cell_type": "code",
   "execution_count": 40,
   "id": "7f304cbe",
   "metadata": {
    "scrolled": true
   },
   "outputs": [
    {
     "name": "stdout",
     "output_type": "stream",
     "text": [
      "Part 1 result: 600\n",
      "Part 2 result: 987840\n"
     ]
    }
   ],
   "source": [
    "import numpy as np\n",
    "array = np.array(numbers)\n",
    "minimized_grid = find_low_points(array)\n",
    "print(f'Part 1 result: {np.sum(minimized_grid[minimized_grid != -1] + 1)}')\n",
    "minima = [(x,y) for y in range(len(minimized_grid[0])) for x in range(len(minimized_grid)) if minimized_grid[x,y] != -1]\n",
    "basin_sizes = []\n",
    "for minimum in minima:\n",
    "    basin = get_basin(minimum[0], minimum[1])\n",
    "    basin_sizes.append(len(basin))\n",
    "basin_sizes = sorted(basin_sizes, reverse=True)\n",
    "print(f'Part 2 result: {np.prod(basin_sizes[:3])}')"
   ]
  }
 ],
 "metadata": {
  "kernelspec": {
   "display_name": "Python 3",
   "language": "python",
   "name": "python3"
  },
  "language_info": {
   "codemirror_mode": {
    "name": "ipython",
    "version": 3
   },
   "file_extension": ".py",
   "mimetype": "text/x-python",
   "name": "python",
   "nbconvert_exporter": "python",
   "pygments_lexer": "ipython3",
   "version": "3.8.10"
  }
 },
 "nbformat": 4,
 "nbformat_minor": 5
}
