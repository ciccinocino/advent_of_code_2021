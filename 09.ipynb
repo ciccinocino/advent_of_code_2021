{
 "cells": [
  {
   "cell_type": "code",
   "execution_count": 1,
   "id": "652b0ca1",
   "metadata": {},
   "outputs": [],
   "source": [
    "with open('inputs/09.txt') as f:\n",
    "    numbers = [[int(n) for n in row] for row in f.read().splitlines()]"
   ]
  },
  {
   "cell_type": "code",
   "execution_count": 4,
   "id": "b47ba3f5",
   "metadata": {},
   "outputs": [],
   "source": [
    "def find_minima(grid):\n",
    "    from copy import deepcopy\n",
    "    new_grid = deepcopy(grid)\n",
    "    ly, lx = grid.shape\n",
    "    for y in range(ly):\n",
    "        for x in range(lx):\n",
    "            #print(f'I am at {x,y}, {grid[y,x]}')\n",
    "            moves = [(1,0), (-1,0), (0,1), (0,-1)]\n",
    "            if x == 0:\n",
    "                moves.remove((0,-1))\n",
    "            if x == lx-1:\n",
    "                moves.remove((0,1))\n",
    "            if y == 0:\n",
    "                moves.remove((-1,0))\n",
    "            if y == ly-1:\n",
    "                moves.remove((1,0))\n",
    "            #print(f'Available moves: {moves}')\n",
    "            for move in moves:\n",
    "                current = grid[y+move[0], x+move[1]]\n",
    "                #print(f'Value at {move} from current point: {current}')\n",
    "                if grid[y,x] >= current:\n",
    "                    new_grid[y,x] = -1\n",
    "                    break\n",
    "    return new_grid"
   ]
  },
  {
   "cell_type": "code",
   "execution_count": 5,
   "id": "eda074d5",
   "metadata": {},
   "outputs": [
    {
     "name": "stdout",
     "output_type": "stream",
     "text": [
      "Part 1 result: 600\n"
     ]
    }
   ],
   "source": [
    "import numpy as np\n",
    "array = np.array(numbers)\n",
    "#print(array)\n",
    "#print(array.shape)\n",
    "minima = find_minima(array)\n",
    "#print(array)\n",
    "#print(minima)\n",
    "print(f'Part 1 result: {np.sum(minima[minima>-1]+1)}')"
   ]
  }
 ],
 "metadata": {
  "kernelspec": {
   "display_name": "Python 3",
   "language": "python",
   "name": "python3"
  },
  "language_info": {
   "codemirror_mode": {
    "name": "ipython",
    "version": 3
   },
   "file_extension": ".py",
   "mimetype": "text/x-python",
   "name": "python",
   "nbconvert_exporter": "python",
   "pygments_lexer": "ipython3",
   "version": "3.8.10"
  }
 },
 "nbformat": 4,
 "nbformat_minor": 5
}
